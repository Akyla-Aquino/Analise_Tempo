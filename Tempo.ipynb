{
 "cells": [
  {
   "cell_type": "markdown",
   "id": "9b560102-4f18-43a9-ac03-48d86302d94e",
   "metadata": {
    "tags": []
   },
   "source": [
    "# <font color = #119fbf size='10'> **Manipulação de Dados com Pandas**</font>"
   ]
  },
  {
   "cell_type": "markdown",
   "id": "dc425886-1103-47e2-b261-6afe2c45c16f",
   "metadata": {},
   "source": [
    "Tratar dados do 'Tempo.csv', as variáveis são:\n",
    "\n",
    "* Aparência: sol, nublado, chuva\n",
    "* Temperatura: -130 ~ 130 F\n",
    "* Umidade: 0 ~ 100\n",
    "* Jogar: sim/não\n",
    "\n",
    "Tratar valores NaN"
   ]
  },
  {
   "cell_type": "markdown",
   "id": "3107ffa0-bc8e-4bff-9fca-906076792d55",
   "metadata": {},
   "source": [
    "## Importando bibliotecas e dados"
   ]
  },
  {
   "cell_type": "code",
   "execution_count": 1,
   "id": "51e3f066-3214-4dcd-8389-d09783f4d98a",
   "metadata": {
    "tags": []
   },
   "outputs": [],
   "source": [
    "import pandas as pd\n",
    "import seaborn as srn\n",
    "import statistics as sts"
   ]
  },
  {
   "cell_type": "markdown",
   "id": "61d0f806-0db8-4f9c-9c5a-d1f98970fcf3",
   "metadata": {},
   "source": [
    "### Importando dados do tempo"
   ]
  },
  {
   "cell_type": "code",
   "execution_count": 2,
   "id": "d8f87f40-370a-4ee2-9eb2-ad4b01910806",
   "metadata": {
    "tags": []
   },
   "outputs": [
    {
     "data": {
      "text/html": [
       "<div>\n",
       "<style scoped>\n",
       "    .dataframe tbody tr th:only-of-type {\n",
       "        vertical-align: middle;\n",
       "    }\n",
       "\n",
       "    .dataframe tbody tr th {\n",
       "        vertical-align: top;\n",
       "    }\n",
       "\n",
       "    .dataframe thead th {\n",
       "        text-align: right;\n",
       "    }\n",
       "</style>\n",
       "<table border=\"1\" class=\"dataframe\">\n",
       "  <thead>\n",
       "    <tr style=\"text-align: right;\">\n",
       "      <th></th>\n",
       "      <th>Aparencia</th>\n",
       "      <th>Temperatura</th>\n",
       "      <th>Umidade</th>\n",
       "      <th>Vento</th>\n",
       "      <th>Jogar</th>\n",
       "    </tr>\n",
       "  </thead>\n",
       "  <tbody>\n",
       "    <tr>\n",
       "      <th>0</th>\n",
       "      <td>sol</td>\n",
       "      <td>85</td>\n",
       "      <td>85.0</td>\n",
       "      <td>FALSO</td>\n",
       "      <td>nao</td>\n",
       "    </tr>\n",
       "    <tr>\n",
       "      <th>1</th>\n",
       "      <td>sol</td>\n",
       "      <td>80</td>\n",
       "      <td>90.0</td>\n",
       "      <td>VERDADEIRO</td>\n",
       "      <td>nao</td>\n",
       "    </tr>\n",
       "    <tr>\n",
       "      <th>2</th>\n",
       "      <td>nublado</td>\n",
       "      <td>83</td>\n",
       "      <td>86.0</td>\n",
       "      <td>FALSO</td>\n",
       "      <td>sim</td>\n",
       "    </tr>\n",
       "    <tr>\n",
       "      <th>3</th>\n",
       "      <td>chuva</td>\n",
       "      <td>70</td>\n",
       "      <td>NaN</td>\n",
       "      <td>FALSO</td>\n",
       "      <td>sim</td>\n",
       "    </tr>\n",
       "    <tr>\n",
       "      <th>4</th>\n",
       "      <td>chuva</td>\n",
       "      <td>68</td>\n",
       "      <td>80.0</td>\n",
       "      <td>FALSO</td>\n",
       "      <td>sim</td>\n",
       "    </tr>\n",
       "  </tbody>\n",
       "</table>\n",
       "</div>"
      ],
      "text/plain": [
       "  Aparencia  Temperatura  Umidade       Vento Jogar\n",
       "0       sol           85     85.0       FALSO   nao\n",
       "1       sol           80     90.0  VERDADEIRO   nao\n",
       "2   nublado           83     86.0       FALSO   sim\n",
       "3     chuva           70      NaN       FALSO   sim\n",
       "4     chuva           68     80.0       FALSO   sim"
      ]
     },
     "execution_count": 2,
     "metadata": {},
     "output_type": "execute_result"
    }
   ],
   "source": [
    "dataset = pd.read_csv('../10.Prática em Python/dados/tempo.csv', sep=';' )\n",
    "dataset.head()"
   ]
  },
  {
   "cell_type": "markdown",
   "id": "fdeaf21f-0f25-4d2d-966a-a02dca733620",
   "metadata": {
    "tags": []
   },
   "source": [
    "### Explorando dados categóricos"
   ]
  },
  {
   "cell_type": "markdown",
   "id": "a5181487-bd42-4d9b-a54f-062084c8b7db",
   "metadata": {
    "tags": []
   },
   "source": [
    " * Aparência"
   ]
  },
  {
   "cell_type": "code",
   "execution_count": 3,
   "id": "5839e7f3-e097-4ce4-9749-b9eec1405661",
   "metadata": {
    "tags": []
   },
   "outputs": [
    {
     "data": {
      "text/plain": [
       "Aparencia\n",
       "chuva      5\n",
       "menos      1\n",
       "nublado    3\n",
       "sol        5\n",
       "dtype: int64"
      ]
     },
     "execution_count": 3,
     "metadata": {},
     "output_type": "execute_result"
    }
   ],
   "source": [
    "aparencia = dataset.groupby(['Aparencia']).size()\n",
    "aparencia"
   ]
  },
  {
   "cell_type": "markdown",
   "id": "b8d7d22a-d4b0-4ba9-8044-eea0a703e20c",
   "metadata": {},
   "source": [
    " - Temperatura"
   ]
  },
  {
   "cell_type": "code",
   "execution_count": 4,
   "id": "f96c0a5c-cbfd-45fd-abae-63bf8d32ca3c",
   "metadata": {
    "tags": []
   },
   "outputs": [
    {
     "data": {
      "text/plain": [
       "Temperatura\n",
       "64      1\n",
       "65      1\n",
       "68      1\n",
       "69      1\n",
       "70      1\n",
       "71      1\n",
       "72      1\n",
       "75      2\n",
       "80      1\n",
       "81      1\n",
       "83      1\n",
       "85      1\n",
       "1220    1\n",
       "dtype: int64"
      ]
     },
     "execution_count": 4,
     "metadata": {},
     "output_type": "execute_result"
    }
   ],
   "source": [
    "temperatura = dataset.groupby(['Temperatura']).size()\n",
    "temperatura"
   ]
  },
  {
   "cell_type": "markdown",
   "id": "39c62e6f-3582-4e22-b99e-16aaa99c4192",
   "metadata": {},
   "source": [
    " - Umidade"
   ]
  },
  {
   "cell_type": "code",
   "execution_count": 5,
   "id": "b5399feb-2087-4617-bbb7-275c680b57cc",
   "metadata": {
    "tags": []
   },
   "outputs": [
    {
     "data": {
      "text/plain": [
       "Umidade\n",
       "65.0     1\n",
       "70.0     3\n",
       "75.0     1\n",
       "80.0     1\n",
       "85.0     1\n",
       "86.0     1\n",
       "90.0     2\n",
       "91.0     1\n",
       "95.0     1\n",
       "200.0    1\n",
       "dtype: int64"
      ]
     },
     "execution_count": 5,
     "metadata": {},
     "output_type": "execute_result"
    }
   ],
   "source": [
    "umidade = dataset.groupby(['Umidade']).size()\n",
    "umidade"
   ]
  },
  {
   "cell_type": "markdown",
   "id": "08284573-98d2-4612-a34c-e865debc3740",
   "metadata": {
    "tags": []
   },
   "source": [
    "* Vento"
   ]
  },
  {
   "cell_type": "code",
   "execution_count": 6,
   "id": "736b5d5e-ca7c-4323-92bb-4f4c8adb43a2",
   "metadata": {
    "tags": []
   },
   "outputs": [
    {
     "data": {
      "text/plain": [
       "Vento\n",
       "FALSO         7\n",
       "VERDADEIRO    6\n",
       "dtype: int64"
      ]
     },
     "execution_count": 6,
     "metadata": {},
     "output_type": "execute_result"
    }
   ],
   "source": [
    "vento = dataset.groupby(['Vento']).size()\n",
    "vento"
   ]
  },
  {
   "cell_type": "markdown",
   "id": "c229fde8-9ea8-4df4-b0c5-60daef9ec924",
   "metadata": {},
   "source": [
    "* Jogar"
   ]
  },
  {
   "cell_type": "code",
   "execution_count": 7,
   "id": "c56ef01a-7f4e-44a0-84ee-ff7613e5e8fd",
   "metadata": {
    "tags": []
   },
   "outputs": [
    {
     "data": {
      "text/plain": [
       "Jogar\n",
       "nao    5\n",
       "sim    9\n",
       "dtype: int64"
      ]
     },
     "execution_count": 7,
     "metadata": {},
     "output_type": "execute_result"
    }
   ],
   "source": [
    "jogar = dataset.groupby(['Jogar']).size()\n",
    "jogar"
   ]
  },
  {
   "cell_type": "markdown",
   "id": "bfd388e6-d0f2-4e6a-b473-39250cff5c6e",
   "metadata": {},
   "source": [
    "* Verificando contagem de valores nulos ( Nan )"
   ]
  },
  {
   "cell_type": "code",
   "execution_count": 8,
   "id": "099532d9-0ee0-47bd-89f4-d6ccc1fbdf93",
   "metadata": {
    "tags": []
   },
   "outputs": [
    {
     "data": {
      "text/plain": [
       "Aparencia      0\n",
       "Temperatura    0\n",
       "Umidade        1\n",
       "Vento          1\n",
       "Jogar          0\n",
       "dtype: int64"
      ]
     },
     "execution_count": 8,
     "metadata": {},
     "output_type": "execute_result"
    }
   ],
   "source": [
    "nulos = dataset.isnull().sum()\n",
    "nulos"
   ]
  },
  {
   "cell_type": "markdown",
   "id": "4ebbab17-7d4a-418f-ae23-af126bd97bc9",
   "metadata": {},
   "source": [
    "## <font color = #7b68ee size='6'> **Tratamento dos dados**</font>"
   ]
  },
  {
   "cell_type": "markdown",
   "id": "3d150cae-010d-4435-9092-6d2b5a130e21",
   "metadata": {},
   "source": [
    "* Povoando valores nulos da Umidade e eliminando outliers"
   ]
  },
  {
   "cell_type": "code",
   "execution_count": 9,
   "id": "59a12e12-2f6f-4468-b512-e24574a81dda",
   "metadata": {
    "tags": []
   },
   "outputs": [],
   "source": [
    "mediana_umidade = sts.median(dataset['Umidade'])\n",
    "\n",
    "dataset['Umidade'].fillna(mediana_umidade, inplace=True)\n",
    "dataset['Umidade'].isnull().sum()\n",
    "dataset.loc[(dataset['Umidade'] < 0) | (dataset['Umidade'] > 100), 'Umidade'] = mediana_umidade"
   ]
  },
  {
   "cell_type": "markdown",
   "id": "a590ea54-90fd-4a16-a985-6a00276b84b5",
   "metadata": {},
   "source": [
    "* Modificando valores inválidos da Aparência"
   ]
  },
  {
   "cell_type": "code",
   "execution_count": 10,
   "id": "24c708fa-f54e-4956-9cfa-cae4e3e67b77",
   "metadata": {
    "tags": []
   },
   "outputs": [
    {
     "data": {
      "text/plain": [
       "Aparencia\n",
       "chuva      5\n",
       "nublado    3\n",
       "sol        6\n",
       "dtype: int64"
      ]
     },
     "execution_count": 10,
     "metadata": {},
     "output_type": "execute_result"
    }
   ],
   "source": [
    "dataset.loc[dataset['Aparencia'] == 'menos', 'Aparencia' ] = 'sol'\n",
    "dataset.groupby(['Aparencia']).size()"
   ]
  },
  {
   "cell_type": "markdown",
   "id": "17be5314-4d43-409d-9010-47eaa314043e",
   "metadata": {},
   "source": [
    "* Povoando valores nulos do Vento"
   ]
  },
  {
   "cell_type": "code",
   "execution_count": 11,
   "id": "7e6ee489-3aa8-4516-8ebb-9082ce919003",
   "metadata": {
    "tags": []
   },
   "outputs": [
    {
     "data": {
      "text/plain": [
       "0"
      ]
     },
     "execution_count": 11,
     "metadata": {},
     "output_type": "execute_result"
    }
   ],
   "source": [
    "dataset['Vento'].fillna('FALSO', inplace=True)\n",
    "dataset['Vento'].isnull().sum()"
   ]
  },
  {
   "cell_type": "markdown",
   "id": "e997edae-c5c3-4a6f-a5e9-4102dc04c477",
   "metadata": {},
   "source": [
    "* Tratamento outliers da Temperatura"
   ]
  },
  {
   "cell_type": "code",
   "execution_count": 12,
   "id": "40c6c866-3dc4-4574-85b0-bf85316eb830",
   "metadata": {
    "tags": []
   },
   "outputs": [
    {
     "data": {
      "text/html": [
       "<div>\n",
       "<style scoped>\n",
       "    .dataframe tbody tr th:only-of-type {\n",
       "        vertical-align: middle;\n",
       "    }\n",
       "\n",
       "    .dataframe tbody tr th {\n",
       "        vertical-align: top;\n",
       "    }\n",
       "\n",
       "    .dataframe thead th {\n",
       "        text-align: right;\n",
       "    }\n",
       "</style>\n",
       "<table border=\"1\" class=\"dataframe\">\n",
       "  <thead>\n",
       "    <tr style=\"text-align: right;\">\n",
       "      <th></th>\n",
       "      <th>Aparencia</th>\n",
       "      <th>Temperatura</th>\n",
       "      <th>Umidade</th>\n",
       "      <th>Vento</th>\n",
       "      <th>Jogar</th>\n",
       "    </tr>\n",
       "  </thead>\n",
       "  <tbody>\n",
       "  </tbody>\n",
       "</table>\n",
       "</div>"
      ],
      "text/plain": [
       "Empty DataFrame\n",
       "Columns: [Aparencia, Temperatura, Umidade, Vento, Jogar]\n",
       "Index: []"
      ]
     },
     "execution_count": 12,
     "metadata": {},
     "output_type": "execute_result"
    }
   ],
   "source": [
    "mediana_temperatura = sts.median(dataset['Temperatura'])\n",
    "dataset.loc[(dataset['Temperatura'] > 130) | (dataset['Temperatura'] < -130), 'Temperatura'] = mediana_temperatura\n",
    "dataset.loc[(dataset['Temperatura'] > 130) | (dataset['Temperatura'] < -130)]"
   ]
  },
  {
   "cell_type": "markdown",
   "id": "895edb43-6483-42dd-bb28-d49c70ba4e43",
   "metadata": {},
   "source": [
    "## Resumo dos dados"
   ]
  },
  {
   "cell_type": "code",
   "execution_count": 15,
   "id": "ba6ac524-86f3-49ee-80a3-a981b506877e",
   "metadata": {
    "tags": []
   },
   "outputs": [
    {
     "data": {
      "text/html": [
       "<div>\n",
       "<style scoped>\n",
       "    .dataframe tbody tr th:only-of-type {\n",
       "        vertical-align: middle;\n",
       "    }\n",
       "\n",
       "    .dataframe tbody tr th {\n",
       "        vertical-align: top;\n",
       "    }\n",
       "\n",
       "    .dataframe thead th {\n",
       "        text-align: right;\n",
       "    }\n",
       "</style>\n",
       "<table border=\"1\" class=\"dataframe\">\n",
       "  <thead>\n",
       "    <tr style=\"text-align: right;\">\n",
       "      <th></th>\n",
       "      <th>Aparencia</th>\n",
       "      <th>Temperatura</th>\n",
       "      <th>Umidade</th>\n",
       "      <th>Vento</th>\n",
       "      <th>Jogar</th>\n",
       "    </tr>\n",
       "  </thead>\n",
       "  <tbody>\n",
       "    <tr>\n",
       "      <th>0</th>\n",
       "      <td>sol</td>\n",
       "      <td>85.0</td>\n",
       "      <td>85.0</td>\n",
       "      <td>FALSO</td>\n",
       "      <td>nao</td>\n",
       "    </tr>\n",
       "    <tr>\n",
       "      <th>1</th>\n",
       "      <td>sol</td>\n",
       "      <td>80.0</td>\n",
       "      <td>90.0</td>\n",
       "      <td>VERDADEIRO</td>\n",
       "      <td>nao</td>\n",
       "    </tr>\n",
       "    <tr>\n",
       "      <th>2</th>\n",
       "      <td>nublado</td>\n",
       "      <td>83.0</td>\n",
       "      <td>86.0</td>\n",
       "      <td>FALSO</td>\n",
       "      <td>sim</td>\n",
       "    </tr>\n",
       "    <tr>\n",
       "      <th>3</th>\n",
       "      <td>chuva</td>\n",
       "      <td>70.0</td>\n",
       "      <td>85.5</td>\n",
       "      <td>FALSO</td>\n",
       "      <td>sim</td>\n",
       "    </tr>\n",
       "    <tr>\n",
       "      <th>4</th>\n",
       "      <td>chuva</td>\n",
       "      <td>68.0</td>\n",
       "      <td>80.0</td>\n",
       "      <td>FALSO</td>\n",
       "      <td>sim</td>\n",
       "    </tr>\n",
       "  </tbody>\n",
       "</table>\n",
       "</div>"
      ],
      "text/plain": [
       "  Aparencia  Temperatura  Umidade       Vento Jogar\n",
       "0       sol         85.0     85.0       FALSO   nao\n",
       "1       sol         80.0     90.0  VERDADEIRO   nao\n",
       "2   nublado         83.0     86.0       FALSO   sim\n",
       "3     chuva         70.0     85.5       FALSO   sim\n",
       "4     chuva         68.0     80.0       FALSO   sim"
      ]
     },
     "execution_count": 15,
     "metadata": {},
     "output_type": "execute_result"
    }
   ],
   "source": [
    "dataset.head()"
   ]
  },
  {
   "cell_type": "code",
   "execution_count": 16,
   "id": "5800ba59-e9b5-48c6-9cc6-bfc02fadb6af",
   "metadata": {
    "tags": []
   },
   "outputs": [
    {
     "data": {
      "text/plain": [
       "Aparencia      0\n",
       "Temperatura    0\n",
       "Umidade        0\n",
       "Vento          0\n",
       "Jogar          0\n",
       "dtype: int64"
      ]
     },
     "execution_count": 16,
     "metadata": {},
     "output_type": "execute_result"
    }
   ],
   "source": [
    "dataset.isnull().sum()"
   ]
  },
  {
   "cell_type": "code",
   "execution_count": 17,
   "id": "66c18429-fef2-4ac0-9fed-76f179f9e3c7",
   "metadata": {
    "tags": []
   },
   "outputs": [
    {
     "data": {
      "text/plain": [
       "Aparencia\n",
       "chuva      5\n",
       "nublado    3\n",
       "sol        6\n",
       "dtype: int64"
      ]
     },
     "execution_count": 17,
     "metadata": {},
     "output_type": "execute_result"
    }
   ],
   "source": [
    "dataset.groupby(['Aparencia']).size()"
   ]
  },
  {
   "cell_type": "code",
   "execution_count": 19,
   "id": "b2f9c602-4e12-4b51-97a5-5f3a3efab7e2",
   "metadata": {
    "tags": []
   },
   "outputs": [
    {
     "data": {
      "text/html": [
       "<div>\n",
       "<style scoped>\n",
       "    .dataframe tbody tr th:only-of-type {\n",
       "        vertical-align: middle;\n",
       "    }\n",
       "\n",
       "    .dataframe tbody tr th {\n",
       "        vertical-align: top;\n",
       "    }\n",
       "\n",
       "    .dataframe thead th {\n",
       "        text-align: right;\n",
       "    }\n",
       "</style>\n",
       "<table border=\"1\" class=\"dataframe\">\n",
       "  <thead>\n",
       "    <tr style=\"text-align: right;\">\n",
       "      <th></th>\n",
       "      <th>Aparencia</th>\n",
       "      <th>Temperatura</th>\n",
       "      <th>Umidade</th>\n",
       "      <th>Vento</th>\n",
       "      <th>Jogar</th>\n",
       "    </tr>\n",
       "  </thead>\n",
       "  <tbody>\n",
       "  </tbody>\n",
       "</table>\n",
       "</div>"
      ],
      "text/plain": [
       "Empty DataFrame\n",
       "Columns: [Aparencia, Temperatura, Umidade, Vento, Jogar]\n",
       "Index: []"
      ]
     },
     "execution_count": 19,
     "metadata": {},
     "output_type": "execute_result"
    }
   ],
   "source": [
    "dataset.loc[(dataset['Temperatura'] < -130) | (dataset['Temperatura'] > 130)]"
   ]
  },
  {
   "cell_type": "code",
   "execution_count": 20,
   "id": "4b5edf45-d786-4bce-addf-2d6ebe9fa2a3",
   "metadata": {
    "tags": []
   },
   "outputs": [
    {
     "data": {
      "text/html": [
       "<div>\n",
       "<style scoped>\n",
       "    .dataframe tbody tr th:only-of-type {\n",
       "        vertical-align: middle;\n",
       "    }\n",
       "\n",
       "    .dataframe tbody tr th {\n",
       "        vertical-align: top;\n",
       "    }\n",
       "\n",
       "    .dataframe thead th {\n",
       "        text-align: right;\n",
       "    }\n",
       "</style>\n",
       "<table border=\"1\" class=\"dataframe\">\n",
       "  <thead>\n",
       "    <tr style=\"text-align: right;\">\n",
       "      <th></th>\n",
       "      <th>Aparencia</th>\n",
       "      <th>Temperatura</th>\n",
       "      <th>Umidade</th>\n",
       "      <th>Vento</th>\n",
       "      <th>Jogar</th>\n",
       "    </tr>\n",
       "  </thead>\n",
       "  <tbody>\n",
       "  </tbody>\n",
       "</table>\n",
       "</div>"
      ],
      "text/plain": [
       "Empty DataFrame\n",
       "Columns: [Aparencia, Temperatura, Umidade, Vento, Jogar]\n",
       "Index: []"
      ]
     },
     "execution_count": 20,
     "metadata": {},
     "output_type": "execute_result"
    }
   ],
   "source": [
    "dataset.loc[(dataset['Temperatura'] < 0) | (dataset['Temperatura'] > 100)]"
   ]
  },
  {
   "cell_type": "code",
   "execution_count": 21,
   "id": "3f0827b3-1eae-4bca-81ab-07a2f18231a5",
   "metadata": {
    "tags": []
   },
   "outputs": [
    {
     "data": {
      "text/plain": [
       "Vento\n",
       "FALSO         8\n",
       "VERDADEIRO    6\n",
       "dtype: int64"
      ]
     },
     "execution_count": 21,
     "metadata": {},
     "output_type": "execute_result"
    }
   ],
   "source": [
    "dataset.groupby(['Vento']).size()"
   ]
  },
  {
   "cell_type": "code",
   "execution_count": 22,
   "id": "12857616-0901-46cd-96c3-e6e709187193",
   "metadata": {
    "tags": []
   },
   "outputs": [
    {
     "data": {
      "text/plain": [
       "Jogar\n",
       "nao    5\n",
       "sim    9\n",
       "dtype: int64"
      ]
     },
     "execution_count": 22,
     "metadata": {},
     "output_type": "execute_result"
    }
   ],
   "source": [
    "dataset.groupby(['Jogar']).size()"
   ]
  },
  {
   "cell_type": "code",
   "execution_count": null,
   "id": "304844b5-c1c9-4e01-a38b-6f18ebb0454b",
   "metadata": {},
   "outputs": [],
   "source": []
  }
 ],
 "metadata": {
  "kernelspec": {
   "display_name": "Python 3 (ipykernel)",
   "language": "python",
   "name": "python3"
  },
  "language_info": {
   "codemirror_mode": {
    "name": "ipython",
    "version": 3
   },
   "file_extension": ".py",
   "mimetype": "text/x-python",
   "name": "python",
   "nbconvert_exporter": "python",
   "pygments_lexer": "ipython3",
   "version": "3.8.9"
  },
  "toc-autonumbering": true,
  "toc-showmarkdowntxt": false
 },
 "nbformat": 4,
 "nbformat_minor": 5
}
